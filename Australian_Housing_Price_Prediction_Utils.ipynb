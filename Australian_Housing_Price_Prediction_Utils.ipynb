{
 "cells": [
  {
   "cell_type": "code",
   "execution_count": null,
   "id": "533bc935",
   "metadata": {},
   "outputs": [],
   "source": [
    "import warnings\n",
    "warnings.filterwarnings('ignore')\n",
    "\n",
    "import pandas as pd\n",
    "import numpy as np\n",
    "\n",
    "\n",
    "import matplotlib.pyplot as plt\n",
    "import seaborn as sns\n",
    "\n",
    "\n",
    "\n",
    "\n",
    "import plotly.offline as py \n",
    "py.init_notebook_mode(connected=False) # this code, allow us to work with offline plotly version\n",
    "import plotly.graph_objs as go # it's like \"plt\" of matplot\n",
    "import plotly.tools as tls # It's useful to we get some tools of plotly\n",
    "import warnings # This library will be used to ignore some warnings\n",
    "from collections import Counter # To do counter of some features\n",
    "import plotly.io as pio\n",
    "pio.renderers.default = \"notebook\" #Colab configs for plotly\n",
    "import plotly.express as px\n",
    "from pylab import *\n",
    "from plotly.subplots import make_subplots\n",
    "\n",
    "from sklearn.linear_model import Ridge\n",
    "from sklearn.linear_model import Lasso\n",
    "from sklearn.model_selection import GridSearchCV\n",
    "from sklearn.metrics import mean_squared_error, r2_score"
   ]
  },
  {
   "cell_type": "code",
   "execution_count": 1,
   "id": "604ceacd",
   "metadata": {},
   "outputs": [],
   "source": [
    "# Compute,Display ?& Store various metrics related to accuracy \n",
    "def compute_and_display_metrics(y_train,y_pred_train,y_test,y_pred_test,metric):\n",
    "    r2_train_lr = r2_score(y_train, y_pred_train)\n",
    "    print(f\"R2 Train : {r2_train_lr}\")\n",
    "    metric.append(r2_train_lr)\n",
    "\n",
    "    r2_test_lr = r2_score(y_test, y_pred_test)\n",
    "    print(f\"R2 Test : {r2_test_lr}\")\n",
    "    metric.append(r2_test_lr)\n",
    "\n",
    "    rss1_lr = np.sum(np.square(y_train - y_pred_train))\n",
    "    print(f\"RSS Train : {rss1_lr}\")\n",
    "    metric.append(rss1_lr)\n",
    "\n",
    "    rss2_lr = np.sum(np.square(y_test - y_pred_test))\n",
    "    print(f\"RSS Test : {rss2_lr}\")\n",
    "    metric.append(rss2_lr)\n",
    "\n",
    "    mse_train_lr = mean_squared_error(y_train, y_pred_train)\n",
    "    print(f\"MSE Train : {mse_train_lr}\")\n",
    "    metric.append(mse_train_lr**0.5)\n",
    "\n",
    "    mse_test_lr = mean_squared_error(y_test, y_pred_test)\n",
    "    print(f\"MSE. Test : {mse_test_lr}\")\n",
    "    metric.append(mse_test_lr**0.5)"
   ]
  },
  {
   "cell_type": "code",
   "execution_count": null,
   "id": "8f33f499",
   "metadata": {},
   "outputs": [],
   "source": []
  }
 ],
 "metadata": {
  "kernelspec": {
   "display_name": "Python 3 (ipykernel)",
   "language": "python",
   "name": "python3"
  },
  "language_info": {
   "codemirror_mode": {
    "name": "ipython",
    "version": 3
   },
   "file_extension": ".py",
   "mimetype": "text/x-python",
   "name": "python",
   "nbconvert_exporter": "python",
   "pygments_lexer": "ipython3",
   "version": "3.8.2"
  }
 },
 "nbformat": 4,
 "nbformat_minor": 5
}
